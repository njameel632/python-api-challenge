{
 "cells": [
  {
   "cell_type": "code",
   "execution_count": 34,
   "metadata": {},
   "outputs": [
    {
     "name": "stdout",
     "output_type": "stream",
     "text": [
      "Requirement already satisfied: citipy in /Users/NoamanJameel/opt/anaconda3/lib/python3.7/site-packages (0.0.5)\r\n",
      "Requirement already satisfied: kdtree>=0.12 in /Users/NoamanJameel/opt/anaconda3/lib/python3.7/site-packages (from citipy) (0.16)\r\n"
     ]
    }
   ],
   "source": [
    "# Dependencies\n",
    "\n",
    "import pandas as pd\n",
    "import requests\n",
    "from pprint import pprint\n",
    "from config import api_key\n",
    "import csv\n",
    "import seaborn as sb\n",
    "import numpy as np\n",
    "!pip install citipy\n",
    "from citipy import citipy"
   ]
  },
  {
   "cell_type": "code",
   "execution_count": 35,
   "metadata": {},
   "outputs": [],
   "source": [
    "url = \"http://api.openweathermap.org/data/2.5/weather?\"\n",
    "units = \"metric\"\n",
    "\n",
    "query_url = f\"{url}appid={api_key}&units={units}&q=\""
   ]
  },
  {
   "cell_type": "code",
   "execution_count": 50,
   "metadata": {},
   "outputs": [
    {
     "data": {
      "text/html": [
       "<div>\n",
       "<style scoped>\n",
       "    .dataframe tbody tr th:only-of-type {\n",
       "        vertical-align: middle;\n",
       "    }\n",
       "\n",
       "    .dataframe tbody tr th {\n",
       "        vertical-align: top;\n",
       "    }\n",
       "\n",
       "    .dataframe thead th {\n",
       "        text-align: right;\n",
       "    }\n",
       "</style>\n",
       "<table border=\"1\" class=\"dataframe\">\n",
       "  <thead>\n",
       "    <tr style=\"text-align: right;\">\n",
       "      <th></th>\n",
       "      <th>lat</th>\n",
       "      <th>lon</th>\n",
       "    </tr>\n",
       "  </thead>\n",
       "  <tbody>\n",
       "    <tr>\n",
       "      <td>0</td>\n",
       "      <td>69.666379</td>\n",
       "      <td>82.246124</td>\n",
       "    </tr>\n",
       "    <tr>\n",
       "      <td>1</td>\n",
       "      <td>-49.244656</td>\n",
       "      <td>-161.080958</td>\n",
       "    </tr>\n",
       "    <tr>\n",
       "      <td>2</td>\n",
       "      <td>-82.422137</td>\n",
       "      <td>122.161328</td>\n",
       "    </tr>\n",
       "    <tr>\n",
       "      <td>3</td>\n",
       "      <td>18.828576</td>\n",
       "      <td>-147.847348</td>\n",
       "    </tr>\n",
       "    <tr>\n",
       "      <td>4</td>\n",
       "      <td>68.895043</td>\n",
       "      <td>-33.463163</td>\n",
       "    </tr>\n",
       "  </tbody>\n",
       "</table>\n",
       "</div>"
      ],
      "text/plain": [
       "         lat         lon\n",
       "0  69.666379   82.246124\n",
       "1 -49.244656 -161.080958\n",
       "2 -82.422137  122.161328\n",
       "3  18.828576 -147.847348\n",
       "4  68.895043  -33.463163"
      ]
     },
     "execution_count": 50,
     "metadata": {},
     "output_type": "execute_result"
    }
   ],
   "source": [
    "# Generating Randon Latitudes & Longitudes\n",
    "\n",
    "counter = 0\n",
    "rndlat = []\n",
    "rndlon = []\n",
    "\n",
    "while len(rndlat) < 1500:\n",
    "    lat = np.random.uniform(-90, 90)\n",
    "    lon = np.random.uniform(-180, 180)\n",
    "    rndlat.append(lat)\n",
    "    rndlon.append(lon)\n",
    "    counter += 1\n",
    "    \n",
    "geo_coordinates = pd.DataFrame({\"lat\": rndlat, \"lon\":rndlon})\n",
    "geo_coordinates.head()"
   ]
  },
  {
   "cell_type": "code",
   "execution_count": 51,
   "metadata": {},
   "outputs": [
    {
     "data": {
      "text/plain": [
       "616"
      ]
     },
     "execution_count": 51,
     "metadata": {},
     "output_type": "execute_result"
    }
   ],
   "source": [
    "# Feeding the Latitudes & Longitudes to Citipy\n",
    "\n",
    "city = []\n",
    "country = []\n",
    "\n",
    "for index, row in geo_coordinates.iterrows():\n",
    "    city_lat = (row[\"lat\"])\n",
    "    city_lon = (row[\"lon\"])\n",
    "    city_name = citipy.nearest_city(city_lat, city_lon).city_name\n",
    "    country_code = citipy.nearest_city(city_lat, city_lon).country_code\n",
    "    city.append(city_name)\n",
    "    country.append(country_code)\n",
    "\n",
    "city_data = pd.DataFrame({\"City\": city, \"Country\": country})\n",
    "city_data = city_data.drop_duplicates()\n",
    "len(city_data)"
   ]
  },
  {
   "cell_type": "code",
   "execution_count": 52,
   "metadata": {},
   "outputs": [],
   "source": [
    "# We now have more than 500 cities\n",
    "\n",
    "weather_data = []"
   ]
  },
  {
   "cell_type": "code",
   "execution_count": null,
   "metadata": {},
   "outputs": [],
   "source": [
    "# Making calls to APIs\n",
    "\n"
   ]
  }
 ],
 "metadata": {
  "kernelspec": {
   "display_name": "Python 3",
   "language": "python",
   "name": "python3"
  },
  "language_info": {
   "codemirror_mode": {
    "name": "ipython",
    "version": 3
   },
   "file_extension": ".py",
   "mimetype": "text/x-python",
   "name": "python",
   "nbconvert_exporter": "python",
   "pygments_lexer": "ipython3",
   "version": "3.7.4"
  }
 },
 "nbformat": 4,
 "nbformat_minor": 2
}
